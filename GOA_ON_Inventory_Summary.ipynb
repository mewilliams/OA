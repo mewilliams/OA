{
 "cells": [
  {
   "cell_type": "markdown",
   "metadata": {},
   "source": [
    "# GOA-ON Inventory Summary\n",
    "\n",
    "by Landung Setiawan and Emilio Mayorga\n",
    "\n",
    "This ipython notebook goes through the GOA-ON Inventory in Google Sheets and extract information attributes that in principle should be based on a vocabulary, or should have limited, repeated terms/strings:\n",
    "`source_doc`, `platform_type`, `type`, `organization`, `country`, and `parameters`. \n",
    "\n",
    "Updates:\n",
    "- 7/10/2017. Initial counts for Parameter, Platform Type, Source Doc, Type, Organization, and Country. [`lsetiawan`](https://github.com/lsetiawan)\n",
    "\n",
    "---"
   ]
  },
  {
   "cell_type": "markdown",
   "metadata": {},
   "source": [
    "## Reading Google Sheet into Pandas Data Frame"
   ]
  },
  {
   "cell_type": "code",
   "execution_count": 1,
   "metadata": {
    "collapsed": true
   },
   "outputs": [],
   "source": [
    "# Import Necessary Libraries\n",
    "%matplotlib inline\n",
    "import os\n",
    "\n",
    "import numpy as np\n",
    "import pandas as pd\n",
    "\n",
    "import eiutil.googlesheets as gsheet\n",
    "import vizer.tsharvest.util as vhutil"
   ]
  },
  {
   "cell_type": "code",
   "execution_count": 2,
   "metadata": {
    "collapsed": true
   },
   "outputs": [],
   "source": [
    "vizername = 'goaon'\n",
    "bOpenDB = False"
   ]
  },
  {
   "cell_type": "code",
   "execution_count": 3,
   "metadata": {
    "collapsed": true
   },
   "outputs": [],
   "source": [
    "vizer = vhutil.Vizer(vizername, bOpenDB)"
   ]
  },
  {
   "cell_type": "code",
   "execution_count": 4,
   "metadata": {
    "collapsed": true
   },
   "outputs": [],
   "source": [
    "# Initialize gpspread authorization\n",
    "gc = gsheet.gspread_authorize(vizer)"
   ]
  },
  {
   "cell_type": "code",
   "execution_count": 5,
   "metadata": {
    "collapsed": true
   },
   "outputs": [],
   "source": [
    "# Names of Google Sheet GOA-ON documents to be used\n",
    "inventory_master_gdocname = 'GOA-ON_structering'\n",
    "inventory_mappings_gdocname = 'GOAONinventory_mappings'"
   ]
  },
  {
   "cell_type": "code",
   "execution_count": 6,
   "metadata": {
    "collapsed": true
   },
   "outputs": [],
   "source": [
    "# Open master inventory worksheet\n",
    "df_xls = gsheet.get_googlesheet_df(gc, inventory_master_gdocname, 'inventory',\n",
    "                                   data_rowstart=2)"
   ]
  },
  {
   "cell_type": "code",
   "execution_count": 7,
   "metadata": {},
   "outputs": [
    {
     "data": {
      "text/html": [
       "<div>\n",
       "<table border=\"1\" class=\"dataframe\">\n",
       "  <thead>\n",
       "    <tr style=\"text-align: right;\">\n",
       "      <th></th>\n",
       "      <th>id</th>\n",
       "      <th>overlaps_with</th>\n",
       "      <th>comments_about_overlaps</th>\n",
       "      <th>source_doc</th>\n",
       "      <th>platform_type</th>\n",
       "      <th>platform_name</th>\n",
       "      <th>type</th>\n",
       "      <th>organization</th>\n",
       "      <th>organization_abbreviation</th>\n",
       "      <th>department</th>\n",
       "      <th>...</th>\n",
       "      <th>sensors</th>\n",
       "      <th>parameters</th>\n",
       "      <th>parameters_planned</th>\n",
       "      <th>method</th>\n",
       "      <th>depth_range</th>\n",
       "      <th>comments</th>\n",
       "      <th>longitude</th>\n",
       "      <th>latitude</th>\n",
       "      <th>location</th>\n",
       "      <th>method_documentation</th>\n",
       "    </tr>\n",
       "  </thead>\n",
       "  <tbody>\n",
       "    <tr>\n",
       "      <th>0</th>\n",
       "      <td>2</td>\n",
       "      <td></td>\n",
       "      <td></td>\n",
       "      <td>FixedTimeSeries</td>\n",
       "      <td>FOTS</td>\n",
       "      <td>AK</td>\n",
       "      <td>IOLR Coastal Beach Rock Monitoring</td>\n",
       "      <td>National Institute of Oceangraphical and Limno...</td>\n",
       "      <td>NIOLR</td>\n",
       "      <td></td>\n",
       "      <td>...</td>\n",
       "      <td></td>\n",
       "      <td>dissolved oxygen; temperature; salinity; nutri...</td>\n",
       "      <td>dissolved inorganic carbon</td>\n",
       "      <td></td>\n",
       "      <td></td>\n",
       "      <td></td>\n",
       "      <td>35.103906</td>\n",
       "      <td>33.063656</td>\n",
       "      <td></td>\n",
       "      <td></td>\n",
       "    </tr>\n",
       "    <tr>\n",
       "      <th>1</th>\n",
       "      <td>3</td>\n",
       "      <td></td>\n",
       "      <td></td>\n",
       "      <td>FixedTimeSeries</td>\n",
       "      <td>FOTS</td>\n",
       "      <td>Alegria, CA</td>\n",
       "      <td>Intertidal (surf-zone) station</td>\n",
       "      <td>University of California, Santa Barbara</td>\n",
       "      <td>UC Santa Barbara</td>\n",
       "      <td></td>\n",
       "      <td>...</td>\n",
       "      <td>GIFET (pH)</td>\n",
       "      <td>pH; pCO2</td>\n",
       "      <td></td>\n",
       "      <td>discrete bottle samples</td>\n",
       "      <td></td>\n",
       "      <td>For a full listing of parameters, contact kris...</td>\n",
       "      <td>-120.28</td>\n",
       "      <td>34.47</td>\n",
       "      <td></td>\n",
       "      <td></td>\n",
       "    </tr>\n",
       "    <tr>\n",
       "      <th>2</th>\n",
       "      <td>4</td>\n",
       "      <td></td>\n",
       "      <td></td>\n",
       "      <td>FixedTimeSeries</td>\n",
       "      <td>FOTS</td>\n",
       "      <td>Anacapa Island</td>\n",
       "      <td>Pier-mounted sensor</td>\n",
       "      <td>University of California, Santa Barbara</td>\n",
       "      <td>UC Santa Barbara</td>\n",
       "      <td></td>\n",
       "      <td>...</td>\n",
       "      <td>SeaFET (pH)</td>\n",
       "      <td>pH; temperature</td>\n",
       "      <td></td>\n",
       "      <td>pH-sensor mounted to the pier piling at Anacap...</td>\n",
       "      <td></td>\n",
       "      <td></td>\n",
       "      <td>-119.3622111</td>\n",
       "      <td>34.01653611</td>\n",
       "      <td></td>\n",
       "      <td></td>\n",
       "    </tr>\n",
       "    <tr>\n",
       "      <th>3</th>\n",
       "      <td>6</td>\n",
       "      <td></td>\n",
       "      <td></td>\n",
       "      <td>FixedTimeSeries</td>\n",
       "      <td>FOTS</td>\n",
       "      <td>BHS UFS EMS</td>\n",
       "      <td>Unmanned Fireship</td>\n",
       "      <td></td>\n",
       "      <td></td>\n",
       "      <td></td>\n",
       "      <td>...</td>\n",
       "      <td>Sea &amp;amp; sun CTD 48; APP Automatic Pump Photo...</td>\n",
       "      <td>pH; pCO2; salinity; temperature; dissolved oxy...</td>\n",
       "      <td></td>\n",
       "      <td></td>\n",
       "      <td>3 - 30 m</td>\n",
       "      <td></td>\n",
       "      <td>6.35</td>\n",
       "      <td>54.16667</td>\n",
       "      <td></td>\n",
       "      <td></td>\n",
       "    </tr>\n",
       "    <tr>\n",
       "      <th>4</th>\n",
       "      <td>7</td>\n",
       "      <td></td>\n",
       "      <td></td>\n",
       "      <td>FixedTimeSeries</td>\n",
       "      <td>FOTS</td>\n",
       "      <td>BHS UFS German Bight</td>\n",
       "      <td>Unmanned Fireship</td>\n",
       "      <td></td>\n",
       "      <td></td>\n",
       "      <td></td>\n",
       "      <td>...</td>\n",
       "      <td>Sea &amp;amp; sun CTD 48; APP Automatic Pump Photo...</td>\n",
       "      <td>pH; pCO2; salinity; temperature; dissolved oxy...</td>\n",
       "      <td></td>\n",
       "      <td></td>\n",
       "      <td>3 - 30 m</td>\n",
       "      <td></td>\n",
       "      <td>7.45</td>\n",
       "      <td>54.16667</td>\n",
       "      <td></td>\n",
       "      <td></td>\n",
       "    </tr>\n",
       "  </tbody>\n",
       "</table>\n",
       "<p>5 rows × 32 columns</p>\n",
       "</div>"
      ],
      "text/plain": [
       "  id overlaps_with comments_about_overlaps       source_doc platform_type  \\\n",
       "0  2                                        FixedTimeSeries          FOTS   \n",
       "1  3                                        FixedTimeSeries          FOTS   \n",
       "2  4                                        FixedTimeSeries          FOTS   \n",
       "3  6                                        FixedTimeSeries          FOTS   \n",
       "4  7                                        FixedTimeSeries          FOTS   \n",
       "\n",
       "          platform_name                                type  \\\n",
       "0                    AK  IOLR Coastal Beach Rock Monitoring   \n",
       "1           Alegria, CA      Intertidal (surf-zone) station   \n",
       "2        Anacapa Island                 Pier-mounted sensor   \n",
       "3           BHS UFS EMS                   Unmanned Fireship   \n",
       "4  BHS UFS German Bight                   Unmanned Fireship   \n",
       "\n",
       "                                        organization  \\\n",
       "0  National Institute of Oceangraphical and Limno...   \n",
       "1            University of California, Santa Barbara   \n",
       "2            University of California, Santa Barbara   \n",
       "3                                                      \n",
       "4                                                      \n",
       "\n",
       "  organization_abbreviation department         ...           \\\n",
       "0                     NIOLR                    ...            \n",
       "1          UC Santa Barbara                    ...            \n",
       "2          UC Santa Barbara                    ...            \n",
       "3                                              ...            \n",
       "4                                              ...            \n",
       "\n",
       "                                             sensors  \\\n",
       "0                                                      \n",
       "1                                         GIFET (pH)   \n",
       "2                                        SeaFET (pH)   \n",
       "3  Sea &amp; sun CTD 48; APP Automatic Pump Photo...   \n",
       "4  Sea &amp; sun CTD 48; APP Automatic Pump Photo...   \n",
       "\n",
       "                                          parameters  \\\n",
       "0  dissolved oxygen; temperature; salinity; nutri...   \n",
       "1                                           pH; pCO2   \n",
       "2                                    pH; temperature   \n",
       "3  pH; pCO2; salinity; temperature; dissolved oxy...   \n",
       "4  pH; pCO2; salinity; temperature; dissolved oxy...   \n",
       "\n",
       "           parameters_planned  \\\n",
       "0  dissolved inorganic carbon   \n",
       "1                               \n",
       "2                               \n",
       "3                               \n",
       "4                               \n",
       "\n",
       "                                              method depth_range  \\\n",
       "0                                                                  \n",
       "1                            discrete bottle samples               \n",
       "2  pH-sensor mounted to the pier piling at Anacap...               \n",
       "3                                                       3 - 30 m   \n",
       "4                                                       3 - 30 m   \n",
       "\n",
       "                                            comments     longitude  \\\n",
       "0                                                        35.103906   \n",
       "1  For a full listing of parameters, contact kris...       -120.28   \n",
       "2                                                     -119.3622111   \n",
       "3                                                             6.35   \n",
       "4                                                             7.45   \n",
       "\n",
       "      latitude location method_documentation  \n",
       "0    33.063656                                \n",
       "1        34.47                                \n",
       "2  34.01653611                                \n",
       "3     54.16667                                \n",
       "4     54.16667                                \n",
       "\n",
       "[5 rows x 32 columns]"
      ]
     },
     "execution_count": 7,
     "metadata": {},
     "output_type": "execute_result"
    }
   ],
   "source": [
    "df_xls.head()"
   ]
  },
  {
   "cell_type": "markdown",
   "metadata": {},
   "source": [
    "---\n",
    "## Getting Parameter Counts"
   ]
  },
  {
   "cell_type": "code",
   "execution_count": 8,
   "metadata": {
    "collapsed": true
   },
   "outputs": [],
   "source": [
    "params_rec = list()\n",
    "for i, df in df_xls.iterrows():\n",
    "    parameters_str = df['parameters']\n",
    "    param_lst = [token.strip() for token in parameters_str.split(';')]\n",
    "    np_params = np.array(param_lst)\n",
    "    unique, counts = np.unique(np_params, return_counts=True)\n",
    "    \n",
    "    params_rec.append(dict(zip(unique, counts)))\n",
    "\n",
    "df_params = pd.DataFrame.from_records(params_rec)"
   ]
  },
  {
   "cell_type": "markdown",
   "metadata": {},
   "source": [
    "**Note: There are some blanks, and strings not formatted correctly**"
   ]
  },
  {
   "cell_type": "code",
   "execution_count": 9,
   "metadata": {
    "scrolled": true
   },
   "outputs": [
    {
     "data": {
      "text/plain": [
       "['',\n",
       " '13-C',\n",
       " '14-C',\n",
       " '18O-H2O',\n",
       " 'Alkalinity',\n",
       " 'Beam Att.',\n",
       " 'C',\n",
       " 'C flux',\n",
       " 'CDOM',\n",
       " 'CDOM fluorescence',\n",
       " 'CFC',\n",
       " 'CH4',\n",
       " 'CO2_Water',\n",
       " 'CO2_air',\n",
       " 'CO2_sw',\n",
       " 'Chlorophyll',\n",
       " 'Chlorphyll',\n",
       " 'DIC',\n",
       " 'DIC-d13C',\n",
       " 'DMS',\n",
       " 'DOC',\n",
       " 'DOM',\n",
       " 'Disco Secchi',\n",
       " 'Dissolved O2',\n",
       " 'Dissolved oxygen',\n",
       " 'Fe',\n",
       " 'Fluorescence',\n",
       " 'H2SO4',\n",
       " 'HPLC',\n",
       " 'Kd',\n",
       " 'N flux',\n",
       " 'N2O',\n",
       " 'NO3',\n",
       " 'Nutrients',\n",
       " 'P flux',\n",
       " 'PIC',\n",
       " 'PO4',\n",
       " 'POC',\n",
       " 'SF6',\n",
       " 'Salinity',\n",
       " 'Sechi',\n",
       " 'Si flux',\n",
       " 'Sigma-t',\n",
       " 'TCO2',\n",
       " 'TDN',\n",
       " 'TN',\n",
       " 'Temperature',\n",
       " 'Total Alkalinity (TA)',\n",
       " 'Turbidity',\n",
       " 'air pCO2',\n",
       " 'air temperature',\n",
       " 'alkalinity',\n",
       " 'ammonium',\n",
       " 'atmospheric pressure',\n",
       " 'backscattering',\n",
       " 'bacteria',\n",
       " 'bacterial abundance',\n",
       " 'bacterial production',\n",
       " 'bacterial respiration rate',\n",
       " 'biogenic particulate Si',\n",
       " 'chlorophyll',\n",
       " 'chlorophyll/pigments',\n",
       " 'chloropigment',\n",
       " 'cholorphyll/pigments',\n",
       " 'conductivity',\n",
       " 'copepod egg production',\n",
       " 'current',\n",
       " 'current direction',\n",
       " 'current speed',\n",
       " 'cyanobacteria',\n",
       " 'd15N',\n",
       " 'd18O',\n",
       " 'depth',\n",
       " 'dissolved carbon dioxide',\n",
       " 'dissolved inorganic carbon',\n",
       " 'dissolved organic carbon',\n",
       " 'dissolved organic nitrogen',\n",
       " 'dissolved organic phosphorus',\n",
       " 'dissolved oxygen',\n",
       " 'fCO2',\n",
       " 'fCO2_air',\n",
       " 'fCO2_sw',\n",
       " 'fluorescence',\n",
       " 'heterotrophic bacteria',\n",
       " 'humidity',\n",
       " 'incident solar radiation',\n",
       " 'meteorological observations',\n",
       " 'microplankton',\n",
       " 'nitrate',\n",
       " 'nitrite',\n",
       " 'nitrogen',\n",
       " 'nutrients',\n",
       " 'optics',\n",
       " 'oxygen',\n",
       " 'pCO2',\n",
       " 'pCO2_sw',\n",
       " 'pH',\n",
       " 'pH (activity scale)',\n",
       " 'particulate organic carbon',\n",
       " 'particulate organic nitrogen',\n",
       " 'particulate organic phosphorus',\n",
       " 'phosphate',\n",
       " 'phosphorus',\n",
       " 'phycocyanin fluorescence',\n",
       " 'phytoplancton species composition',\n",
       " 'phytoplankton',\n",
       " 'phytoplankton abundance',\n",
       " 'phytoplankton abundance and biomass',\n",
       " 'phytoplankton pigments',\n",
       " 'picocyanobacteria',\n",
       " 'precipitation',\n",
       " 'pressure',\n",
       " 'primary production',\n",
       " 'primary productivity',\n",
       " 'respiration',\n",
       " 'salinity',\n",
       " 'sea surface temperature',\n",
       " 'silica',\n",
       " 'silicate',\n",
       " 'solar radiation',\n",
       " 'soluble reactive phosphorus',\n",
       " 'synechococcus',\n",
       " 'synechococcus abudance',\n",
       " 'temperature',\n",
       " 'total alkalinity',\n",
       " 'total organic carbon',\n",
       " 'total particulate suspended matter',\n",
       " 'transparencia',\n",
       " 'turbidity',\n",
       " 'underwater radiation field',\n",
       " 'upwelling radiance',\n",
       " 'viruses',\n",
       " 'wind',\n",
       " 'wind direction',\n",
       " 'wind speed',\n",
       " 'xCO2_air',\n",
       " 'xCO2_sw',\n",
       " 'zooplankton',\n",
       " 'zooplankton abundance and biomass',\n",
       " 'zooplankton abundance, Alkalinity']"
      ]
     },
     "execution_count": 9,
     "metadata": {},
     "output_type": "execute_result"
    }
   ],
   "source": [
    "list(df_params.columns)"
   ]
  },
  {
   "cell_type": "code",
   "execution_count": 10,
   "metadata": {
    "collapsed": true
   },
   "outputs": [],
   "source": [
    "param_counts = df_params.count()"
   ]
  },
  {
   "cell_type": "code",
   "execution_count": 11,
   "metadata": {
    "scrolled": true
   },
   "outputs": [
    {
     "data": {
      "text/plain": [
       "                                       91\n",
       "13-C                                    2\n",
       "14-C                                    1\n",
       "18O-H2O                                 1\n",
       "Alkalinity                              1\n",
       "Beam Att.                              31\n",
       "C                                       2\n",
       "C flux                                 24\n",
       "CDOM                                    2\n",
       "CDOM fluorescence                       1\n",
       "CFC                                    29\n",
       "CH4                                     2\n",
       "CO2_Water                               1\n",
       "CO2_air                                36\n",
       "CO2_sw                                 40\n",
       "Chlorophyll                             1\n",
       "Chlorphyll                              1\n",
       "DIC                                     1\n",
       "DIC-d13C                                9\n",
       "DMS                                     3\n",
       "DOC                                     1\n",
       "DOM                                     1\n",
       "Disco Secchi                            1\n",
       "Dissolved O2                            1\n",
       "Dissolved oxygen                        1\n",
       "Fe                                      1\n",
       "Fluorescence                            2\n",
       "H2SO4                                   1\n",
       "HPLC                                   31\n",
       "Kd                                      1\n",
       "                                     ... \n",
       "precipitation                           1\n",
       "pressure                                1\n",
       "primary production                     38\n",
       "primary productivity                    1\n",
       "respiration                             1\n",
       "salinity                              308\n",
       "sea surface temperature                50\n",
       "silica                                  5\n",
       "silicate                              140\n",
       "solar radiation                         1\n",
       "soluble reactive phosphorus            70\n",
       "synechococcus                           3\n",
       "synechococcus abudance                  1\n",
       "temperature                           294\n",
       "total alkalinity                      144\n",
       "total organic carbon                    1\n",
       "total particulate suspended matter      2\n",
       "transparencia                           1\n",
       "turbidity                              50\n",
       "underwater radiation field              1\n",
       "upwelling radiance                      1\n",
       "viruses                                 4\n",
       "wind                                    1\n",
       "wind direction                          3\n",
       "wind speed                              4\n",
       "xCO2_air                                3\n",
       "xCO2_sw                                 3\n",
       "zooplankton                           154\n",
       "zooplankton abundance and biomass       2\n",
       "zooplankton abundance, Alkalinity       1\n",
       "dtype: int64"
      ]
     },
     "execution_count": 11,
     "metadata": {},
     "output_type": "execute_result"
    }
   ],
   "source": [
    "param_counts"
   ]
  },
  {
   "cell_type": "markdown",
   "metadata": {},
   "source": [
    "---\n",
    "## Get Platform Type Counts"
   ]
  },
  {
   "cell_type": "code",
   "execution_count": 12,
   "metadata": {},
   "outputs": [
    {
     "data": {
      "text/plain": [
       "STS       242\n",
       "M         126\n",
       "FOTS       97\n",
       "TS         50\n",
       "VOS        30\n",
       "RH         27\n",
       "OP          1\n",
       "M; STS      1\n",
       "Name: platform_type, dtype: int64"
      ]
     },
     "execution_count": 12,
     "metadata": {},
     "output_type": "execute_result"
    }
   ],
   "source": [
    "df_xls['platform_type'].value_counts(dropna=False)"
   ]
  },
  {
   "cell_type": "markdown",
   "metadata": {},
   "source": [
    "---\n",
    "## Get Source Doc Counts with Platform Type"
   ]
  },
  {
   "cell_type": "code",
   "execution_count": 13,
   "metadata": {
    "collapsed": true
   },
   "outputs": [],
   "source": [
    "df_cleaned_pt = df_xls.fillna({'Platform_type': 'NA'})"
   ]
  },
  {
   "cell_type": "code",
   "execution_count": 14,
   "metadata": {
    "scrolled": true
   },
   "outputs": [
    {
     "data": {
      "text/plain": [
       "source_doc               platform_type\n",
       "Bjoern_Times_Series_OCB  M                  3\n",
       "                         STS              193\n",
       "                         TS                48\n",
       "Email_request            FOTS               1\n",
       "                         M                  7\n",
       "Fixed Ocean Time Series  FOTS               2\n",
       "FixedTimeSeries          FOTS              78\n",
       "                         OP                 1\n",
       "                         STS                9\n",
       "                         TS                 1\n",
       "Mooring                  FOTS               2\n",
       "                         M                103\n",
       "                         M; STS             1\n",
       "                         TS                 1\n",
       "OOI                      M                 13\n",
       "RepeatHydrography        RH                27\n",
       "ShipbasedTime_Series     STS               39\n",
       "VOS                      VOS               29\n",
       "WESTPAC                  FOTS              11\n",
       "on-line request          FOTS               3\n",
       "                         STS                1\n",
       "                         VOS                1\n",
       "dtype: int64"
      ]
     },
     "execution_count": 14,
     "metadata": {},
     "output_type": "execute_result"
    }
   ],
   "source": [
    "df_cleaned_pt.groupby(['source_doc', 'platform_type']).size()"
   ]
  },
  {
   "cell_type": "markdown",
   "metadata": {
    "collapsed": true
   },
   "source": [
    "---\n",
    "## Get Type Counts"
   ]
  },
  {
   "cell_type": "code",
   "execution_count": 15,
   "metadata": {
    "scrolled": true
   },
   "outputs": [
    {
     "data": {
      "text/plain": [
       "                                                                                        371\n",
       "NOAA OA Coral Reef Monitoring Site                                                       20\n",
       "Intertidal (surf-zone) station                                                           15\n",
       "OA/pCO2 Mooring (Coastal)                                                                14\n",
       "ChloroGIN - ANTARES Station                                                              11\n",
       "OA/pCO2 Mooring (Open Ocean)                                                              9\n",
       "Open Ocean Mooring                                                                        8\n",
       "Inner-shelf mooring (15-20 meter depth)                                                   8\n",
       "OA/pCO2 Mooring (Coral Reef)                                                              7\n",
       "IOLR Hydrographic cruise station                                                          6\n",
       "Ship-based Time Series                                                                    6\n",
       "SmartBuoy                                                                                 5\n",
       "Fixed time series.                                                                        4\n",
       "Shelf Station                                                                             4\n",
       "IOLR Coastal Beach Rock Monitoring                                                        4\n",
       "Inshore Surface Mooring                                                                   3\n",
       "Seafloor, surface, and mid-water sampling.                                                3\n",
       "Mooring in tropical Atlantic Brazilian islands                                            3\n",
       "Apex Surface Mooring                                                                      3\n",
       "Offshore Surface Mooring                                                                  3\n",
       "MBARI surf-zone sensor                                                                    2\n",
       "Shelf Surface Mooring                                                                     2\n",
       "Pier-mounted sensor                                                                       2\n",
       "Cicese/UABC                                                                               2\n",
       "Coastal lagoon                                                                            2\n",
       "Unmanned Fireship                                                                         2\n",
       "Western Channel Observatory (Open Ocean)                                                  2\n",
       "Float                                                                                     2\n",
       "OGS Mooring                                                                               2\n",
       "Coastal Observatory                                                                       2\n",
       "                                                                                       ... \n",
       "Coral reef                                                                                1\n",
       "Ship based time series; surface buoy; deep mooring                                        1\n",
       "Survey                                                                                    1\n",
       "Automated Water Sampler                                                                   1\n",
       "                                                                                          1\n",
       "Rothera Oceanographic and Biological Time Series                                          1\n",
       "Coral Reef Monitoring Site                                                                1\n",
       "Central Great Barrier Reef                                                                1\n",
       "near shore-Pier                                                                           1\n",
       "Seawater Sampling and Insitu Measurements in Kuwait territorial waters                    1\n",
       "Seawater Sampling and Insitu Measurements in Hengam Island Coral Reefs, Persial Gulf      1\n",
       "Near-shore-Fixed Ocean Time Series                                                        1\n",
       "HALE-ALOHA mooring at Hawaii Ocean Time station (Open Ocean)                              1\n",
       "Monthly cruises to the Cariaco time-series station                                        1\n",
       "CSIRO OA Mooring (Coral Reef)                                                             1\n",
       "Firth (ie coastal)-Mooring                                                                1\n",
       "Dedicated shore side facility with flow-through seawater system                           1\n",
       "NEPTUNE Canada Vertical Profiler                                                          1\n",
       "Time series station in the Irminger Sea, N-Atlantic, IRM-ts                               1\n",
       "Floating Dock                                                                             1\n",
       "Vigo Coastal Observing System                                                             1\n",
       "W1-M3A observatory based on the spar buoy \"ODAS Italia 1\" (WM06100010)                    1\n",
       "Central Surface Mooring                                                                   1\n",
       "15-day times series in a shallow coastal site in Ensendada, Baja California, Mexico       1\n",
       "VENUS Buoy Profiling System                                                               1\n",
       "CNR ISMAR Mooring                                                                         1\n",
       "Surveys, pier                                                                             1\n",
       "Seafloor and surface sampling.                                                            1\n",
       "Shipboard sampling                                                                        1\n",
       "Mooring and Ship-Based Time Series                                                        1\n",
       "Name: type, dtype: int64"
      ]
     },
     "execution_count": 15,
     "metadata": {},
     "output_type": "execute_result"
    }
   ],
   "source": [
    "df_xls['type'].value_counts(dropna=False)"
   ]
  },
  {
   "cell_type": "markdown",
   "metadata": {},
   "source": [
    "---\n",
    "## Get Organization Counts"
   ]
  },
  {
   "cell_type": "code",
   "execution_count": 16,
   "metadata": {
    "collapsed": true
   },
   "outputs": [],
   "source": [
    "df_cleaned_org = df_xls.fillna({'organization': 'NA'})"
   ]
  },
  {
   "cell_type": "markdown",
   "metadata": {},
   "source": [
    "**Note: There are some Repeating Organization or Similar, but spelled differently.**"
   ]
  },
  {
   "cell_type": "code",
   "execution_count": 17,
   "metadata": {
    "scrolled": true
   },
   "outputs": [
    {
     "data": {
      "text/plain": [
       "organization                                                                          country      \n",
       "                                                                                                       22\n",
       "                                                                                      Argentina         5\n",
       "                                                                                      Australia         7\n",
       "                                                                                      Barbados          1\n",
       "                                                                                      Belgium           1\n",
       "                                                                                      Brazil            2\n",
       "                                                                                      Canada           46\n",
       "                                                                                      Chile             4\n",
       "                                                                                      China             3\n",
       "                                                                                      Colombia          4\n",
       "                                                                                      Croatia           2\n",
       "                                                                                      Cuba              1\n",
       "                                                                                      Denmark           4\n",
       "                                                                                      Ecuador           1\n",
       "                                                                                      Estonia           2\n",
       "                                                                                      Faroe Islands     1\n",
       "                                                                                      Finland           4\n",
       "                                                                                      France           20\n",
       "                                                                                      Germany           7\n",
       "                                                                                      Ghana             1\n",
       "                                                                                      Greece            1\n",
       "                                                                                      Iceland           2\n",
       "                                                                                      India             4\n",
       "                                                                                      Ireland           5\n",
       "                                                                                      Isle of Man       1\n",
       "                                                                                      Israel            1\n",
       "                                                                                      Italy             2\n",
       "                                                                                      Japan             8\n",
       "                                                                                      Korea             5\n",
       "                                                                                      Latvia            2\n",
       "                                                                                                       ..\n",
       "School of Ocean and Earth Science and Technology, University of Hawaii                US                4\n",
       "Scripps Institution of Oceanography                                                   US                1\n",
       "Southern Cross University                                                             Australia         1\n",
       "Stanford University                                                                   US                1\n",
       "Univeristy of California; Santa Cruz                                                  US                2\n",
       "Universidad Austral de Chile                                                          Chile             1\n",
       "Universidad Austral de Chile; Centro de Investigación en Ecosistemas de la Patagonia  Chile             1\n",
       "Universidad Autonoma de Baja California                                               Mexico           13\n",
       "Universidad Nacional Autonoma de Mexico                                               Mexico            3\n",
       "Universidad de Chile                                                                  Chile             1\n",
       "Universidad de Concepcion                                                             Chile             1\n",
       "Universidad de Concepción                                                             Chile             5\n",
       "Universidade Federal de Pernambuco                                                    Brazil            3\n",
       "Universiti Malaysia                                                                   Malaysia          2\n",
       "University of Bergen                                                                  Norway            3\n",
       "University of California, Davis                                                       US                4\n",
       "University of California, Davis                                                       US                1\n",
       "University of California, Santa Barbara                                               US                6\n",
       "University of California, Santa Cruz                                                  US                5\n",
       "University of Chicago                                                                 US                1\n",
       "University of East Anglia                                                             UK                1\n",
       "University of Exeter                                                                  UK                1\n",
       "University of Iceland                                                                 Iceland           2\n",
       "University of Mauritius                                                               Mauritius         1\n",
       "University of Washington                                                              US                1\n",
       "Université Pierre et Marie Curie                                                      France            1\n",
       "Université Pierre-et-Marie-Curie                                                      France            2\n",
       "Woods Hole Oceanographic Institution                                                  US                3\n",
       "Xiamen University                                                                     China             2\n",
       "near-shore-Ship-Based Time Series                                                     Spain             1\n",
       "dtype: int64"
      ]
     },
     "execution_count": 17,
     "metadata": {},
     "output_type": "execute_result"
    }
   ],
   "source": [
    "df_cleaned_org.groupby(['organization', 'country']).size()"
   ]
  },
  {
   "cell_type": "markdown",
   "metadata": {},
   "source": [
    "---\n",
    "## Get Country Counts"
   ]
  },
  {
   "cell_type": "code",
   "execution_count": 18,
   "metadata": {
    "collapsed": true
   },
   "outputs": [],
   "source": [
    "country_counts = df_xls['country'].value_counts(dropna=False)"
   ]
  },
  {
   "cell_type": "code",
   "execution_count": 19,
   "metadata": {
    "scrolled": true
   },
   "outputs": [
    {
     "data": {
      "text/plain": [
       "US                        157\n",
       "Canada                     61\n",
       "                           49\n",
       "France                     31\n",
       "UK                         31\n",
       "Mexico                     24\n",
       "Australia                  21\n",
       "Spain                      20\n",
       "Norway                     20\n",
       "Chile                      13\n",
       "Israel                     12\n",
       "Japan                      11\n",
       "Germany                    11\n",
       "Italy                       8\n",
       "Brazil                      6\n",
       "China                       6\n",
       "South Africa                6\n",
       "Ireland                     5\n",
       "Argentina                   5\n",
       "Korea                       5\n",
       "India                       4\n",
       "Peru                        4\n",
       "Iceland                     4\n",
       "Colombia                    4\n",
       "Finland                     4\n",
       "Sweden                      4\n",
       "Denmark                     4\n",
       "Thailand                    3\n",
       "New Zealand                 3\n",
       "Venezuela                   3\n",
       "Malaysia                    2\n",
       "Viet Nam                    2\n",
       "Croatia                     2\n",
       "Latvia                      2\n",
       "Portugal                    2\n",
       "Estonia                     2\n",
       "Indonesia                   2\n",
       "Poland                      2\n",
       "Panama                      1\n",
       "Republique de Djibouti      1\n",
       "Scotland                    1\n",
       "Faroe Islands               1\n",
       "Kuwait                      1\n",
       "Barbados                    1\n",
       "Ecuador                     1\n",
       "Namibia                     1\n",
       "Ghana                       1\n",
       "Iran                        1\n",
       "Cuba                        1\n",
       "American Samoa              1\n",
       "Taiwan                      1\n",
       "Papau New Guinea            1\n",
       "Mauritius                   1\n",
       "Russia                      1\n",
       "Isle of Man                 1\n",
       "Greece                      1\n",
       "Belgium                     1\n",
       "Name: country, dtype: int64"
      ]
     },
     "execution_count": 19,
     "metadata": {},
     "output_type": "execute_result"
    }
   ],
   "source": [
    "country_counts"
   ]
  },
  {
   "cell_type": "markdown",
   "metadata": {
    "collapsed": true
   },
   "source": [
    "---"
   ]
  }
 ],
 "metadata": {
  "kernelspec": {
   "display_name": "Python 2",
   "language": "python",
   "name": "python2"
  },
  "language_info": {
   "codemirror_mode": {
    "name": "ipython",
    "version": 2
   },
   "file_extension": ".py",
   "mimetype": "text/x-python",
   "name": "python",
   "nbconvert_exporter": "python",
   "pygments_lexer": "ipython2",
   "version": "2.7.11"
  }
 },
 "nbformat": 4,
 "nbformat_minor": 2
}
